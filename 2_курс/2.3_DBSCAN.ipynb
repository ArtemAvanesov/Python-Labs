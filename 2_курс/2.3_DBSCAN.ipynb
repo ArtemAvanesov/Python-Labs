{
 "cells": [
  {
   "cell_type": "code",
   "execution_count": null,
   "metadata": {},
   "outputs": [],
   "source": [
    "from sklearn.datasets import make_blobs\n",
    "from sklearn.cluster import AgglomerativeClustering\n",
    "import matplotlib.pyplot as plt\n",
    "\n",
    "X,y = make_blobs(random_state = 42, cluster_std=2)\n",
    "\n",
    "ag = AgglomerativeClustering(n_clusters=3)\n",
    "ag.fit(X)\n",
    "\n",
    "plt.figure(figsize=(8,8))\n",
    "plt.title(\"Фактические кластеры\")\n",
    "plt.scatter(X[:,0], X[:,1], c = y)\n",
    "plt.xlabel(\"Первый признак\")\n",
    "plt.ylabel(\"Второй признак\")\n",
    "\n",
    "plt.figure(figsize=(8,8))\n",
    "plt.title(\"Предсказанные кластеры\")\n",
    "plt.scatter(X[:,0], X[:,1], c = ag.labels_)\n",
    "plt.xlabel(\"Первый признак\")\n",
    "plt.ylabel(\"Второй признак\")"
   ]
  }
 ],
 "metadata": {
  "kernelspec": {
   "display_name": "Python 3",
   "language": "python",
   "name": "python3"
  },
  "language_info": {
   "codemirror_mode": {
    "name": "ipython",
    "version": 3
   },
   "file_extension": ".py",
   "mimetype": "text/x-python",
   "name": "python",
   "nbconvert_exporter": "python",
   "pygments_lexer": "ipython3",
   "version": "3.7.6"
  }
 },
 "nbformat": 4,
 "nbformat_minor": 4
}
