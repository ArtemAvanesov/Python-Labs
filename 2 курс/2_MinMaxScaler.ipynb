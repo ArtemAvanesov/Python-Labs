{
 "cells": [
  {
   "cell_type": "code",
   "execution_count": 7,
   "metadata": {},
   "outputs": [
    {
     "name": "stdout",
     "output_type": "stream",
     "text": [
      "Наибольшее значение признаков до нормализации: 7.9\n",
      "Наименьшее значение признаков до нормализации: 0.1\n",
      "\n",
      "Наибольшее значение признаков после нормализации: 1.0\n",
      "Наименьшее значение признаков после нормализации: 0.0\n",
      "\n"
     ]
    }
   ],
   "source": [
    "import numpy as np\n",
    "from sklearn.preprocessing import MinMaxScaler\n",
    "from sklearn.datasets import load_iris\n",
    "\n",
    "iris_dataset = load_iris()\n",
    "X = iris_dataset.data\n",
    "\n",
    "print(\"Наибольшее значение признаков до нормализации: {}\".format(np.max(X)))\n",
    "print(\"Наименьшее значение признаков до нормализации: {}\\n\".format(np.min(X)))\n",
    "\n",
    "MMS = MinMaxScaler(copy=True, feature_range=(0,1))\n",
    "MMS.fit(X)\n",
    "X_scaled = MMS.transform(X)\n",
    "\n",
    "print(\"Наибольшее значение признаков после нормализации: {}\".format(np.max(X_scaled)))\n",
    "print(\"Наименьшее значение признаков после нормализации: {}\\n\".format(np.min(X_scaled)))"
   ]
  },
  {
   "cell_type": "code",
   "execution_count": null,
   "metadata": {},
   "outputs": [],
   "source": []
  }
 ],
 "metadata": {
  "kernelspec": {
   "display_name": "Python 3",
   "language": "python",
   "name": "python3"
  },
  "language_info": {
   "codemirror_mode": {
    "name": "ipython",
    "version": 3
   },
   "file_extension": ".py",
   "mimetype": "text/x-python",
   "name": "python",
   "nbconvert_exporter": "python",
   "pygments_lexer": "ipython3",
   "version": "3.7.6"
  }
 },
 "nbformat": 4,
 "nbformat_minor": 4
}
