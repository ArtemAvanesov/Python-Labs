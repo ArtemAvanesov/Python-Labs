{
 "cells": [
  {
   "cell_type": "code",
   "execution_count": 32,
   "metadata": {},
   "outputs": [
    {
     "name": "stdout",
     "output_type": "stream",
     "text": [
      "There are (126,) training samples\n",
      "There are (42,) testing samples\n",
      "The best model is based on variable 0 and has error 20.00\n",
      "{'variable': 0, 'predictor': {0: 1.0, 1: 0.0}}\n"
     ]
    }
   ],
   "source": [
    "import csv\n",
    "import numpy as np\n",
    "from sklearn.model_selection import train_test_split\n",
    "\n",
    "n_features = 5\n",
    "n_samples = 168\n",
    "n_classes = 2\n",
    "# A - 0, B - 1\n",
    "# ввели исходные данные в массивы X и Y\n",
    "X = np.empty((n_samples, n_features))\n",
    "Y = np.empty(n_samples)\n",
    "\n",
    "with open(\"ex2.data\", newline='') as csvfile:\n",
    "    reader = csv.reader(csvfile, delimiter=',')\n",
    "   \n",
    "    for row in reader:\n",
    "        X[reader.line_num-1] = np.array(row[:len(row)-1])\n",
    "        Y[reader.line_num-1] = 0 if row[len(row)-1] == 'A' else 1\n",
    "\n",
    "        \n",
    "#Математическое ожидаине для каждого из признаков\n",
    "attribute_means = X.mean(axis=0)\n",
    "#проверка что количесвто признаков соответствует заданному\n",
    "assert attribute_means.shape == (n_features,)\n",
    "#бинаризация признаков\n",
    "X_d = np.array(X >= attribute_means, dtype='int')\n",
    "random_state = 14  # так, чтобы получить одинак. рез-ты\n",
    "#разделение на тестовую и обучающие выборки\n",
    "X_train, X_test, y_train, y_test = train_test_split(X_d, Y, random_state=random_state)\n",
    "print(\"There are {} training samples\".format(y_train.shape))\n",
    "print(\"There are {} testing samples\".format(y_test.shape))\n",
    "\n",
    "\n",
    "from collections import defaultdict\n",
    "from operator import itemgetter\n",
    "\n",
    "def train(X, y_true, feature):\n",
    "    # проверка валидный ли номер признака\n",
    "    n_samples, n_features = X.shape\n",
    "    assert 0 <= feature < n_features\n",
    "    # получение всех уникальных значений для признака \n",
    "    # после бинаризации значение 1 и 0\n",
    "    values = set(X[:,feature])\n",
    "    # Stores the predictors array that is returned\n",
    "    predictors = dict()\n",
    "    errors = []\n",
    "    #для каждого из значений признака вычисляется:\n",
    "    #most_frequent_class  класс, который чаще встречается при данном значении признака\n",
    "    #error - ошибка при подоюном правиле\n",
    "    for current_value in values:\n",
    "        most_frequent_class, error = train_feature_value(X, y_true, feature, current_value)\n",
    "        predictors[current_value] = most_frequent_class\n",
    "        errors.append(error)\n",
    "    # Compute the total error of using this feature to classify on\n",
    "    total_error = sum(errors)\n",
    "    return predictors, total_error\n",
    "\n",
    "# Compute what our predictors say each sample is based on its value\n",
    "#y_predicted = np.array([predictors[sample[feature]] for sample in X])\n",
    "    \n",
    "\n",
    "def train_feature_value(X, y_true, feature, value):\n",
    "    # Create a simple dictionary to count how frequency they give certain predictions\n",
    "    class_counts = defaultdict(int)\n",
    "    # Iterate through each sample and count the frequency of each class/value pair\n",
    "    # для каждого значения признака считаются появляющиеся классы\n",
    "    for sample, y in zip(X, y_true):\n",
    "        if sample[feature] == value:\n",
    "            class_counts[y] += 1       \n",
    "    # Now get the best one by sorting (highest first) and choosing the first item\n",
    "    # выбор наиболее частовстречающегося класса - считаем, что данное значение данного признака \n",
    "    # соотеветствует этому классу\n",
    "    sorted_class_counts = sorted(class_counts.items(), key=itemgetter(1), reverse=True)\n",
    "    most_frequent_class = sorted_class_counts[0][0]\n",
    "    # The error is the number of samples that do not classify as the most frequent class\n",
    "    # *and* have the feature value.\n",
    "    n_samples = X.shape[1] #выгляди как ненужная строка\n",
    "    # ошибка - количесвто примеров, где класс другой\n",
    "    error = sum([class_count for class_value, class_count in class_counts.items()\n",
    "                 if class_value != most_frequent_class])\n",
    "    return most_frequent_class, error\n",
    "\n",
    "# Compute all of the predictors\n",
    "# вычислили правило и ошибку для каждого признака\n",
    "all_predictors = {variable: train(X_train, y_train, variable) for variable in range(X_train.shape[1])}\n",
    "errors = {variable: error for variable, (mapping, error) in all_predictors.items()}\n",
    "# Now choose the best and save that as \"model\"\n",
    "# Sort by error\n",
    "# выбрали наилучшее по минимальной ошибке\n",
    "best_variable, best_error = sorted(errors.items(), key=itemgetter(1))[0]\n",
    "print(\"The best model is based on variable {0} and has error {1:.2f}\".format(best_variable, best_error))\n",
    "\n",
    "# Choose the bset model\n",
    "model = {'variable': best_variable,\n",
    "         'predictor': all_predictors[best_variable][0]}\n",
    "print(model)\n"
   ]
  },
  {
   "cell_type": "code",
   "execution_count": 15,
   "metadata": {},
   "outputs": [
    {
     "name": "stdout",
     "output_type": "stream",
     "text": [
      "The test accuracy is 95.2%\n"
     ]
    }
   ],
   "source": [
    "def predict(X_test, model):\n",
    "    variable = model['variable']\n",
    "    predictor = model['predictor']\n",
    "    y_predicted = np.array([predictor[int(sample[variable])] for sample in X_test])\n",
    "    return y_predicted\n",
    "y_predicted = predict(X_test, model)\n",
    "# print(y_predicted)\n",
    "\n",
    "# Compute the accuracy by taking the mean of the amounts that y_predicted is equal to y_test\n",
    "accuracy = np.mean(y_predicted == y_test) * 100\n",
    "print(\"The test accuracy is {:.1f}%\".format(accuracy))"
   ]
  },
  {
   "cell_type": "code",
   "execution_count": 16,
   "metadata": {},
   "outputs": [
    {
     "name": "stdout",
     "output_type": "stream",
     "text": [
      "              precision    recall  f1-score   support\n",
      "\n",
      "         0.0       0.91      1.00      0.95        21\n",
      "         1.0       1.00      0.90      0.95        21\n",
      "\n",
      "   micro avg       0.95      0.95      0.95        42\n",
      "   macro avg       0.96      0.95      0.95        42\n",
      "weighted avg       0.96      0.95      0.95        42\n",
      "\n"
     ]
    }
   ],
   "source": [
    "from sklearn.metrics import classification_report\n",
    "print(classification_report(y_test, y_predicted))"
   ]
  },
  {
   "cell_type": "code",
   "execution_count": null,
   "metadata": {},
   "outputs": [],
   "source": []
  }
 ],
 "metadata": {
  "kernelspec": {
   "display_name": "Python 3",
   "language": "python",
   "name": "python3"
  },
  "language_info": {
   "codemirror_mode": {
    "name": "ipython",
    "version": 3
   },
   "file_extension": ".py",
   "mimetype": "text/x-python",
   "name": "python",
   "nbconvert_exporter": "python",
   "pygments_lexer": "ipython3",
   "version": "3.7.1"
  }
 },
 "nbformat": 4,
 "nbformat_minor": 4
}
