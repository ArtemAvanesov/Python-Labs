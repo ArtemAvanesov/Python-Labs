{
 "cells": [
  {
   "cell_type": "code",
   "execution_count": 63,
   "metadata": {},
   "outputs": [
    {
     "name": "stdout",
     "output_type": "stream",
     "text": [
      "score_train:  91.63498098859316\n",
      "best_score_test:  86.36363636363636\n",
      "best_max_features:  3\n",
      "best_max_depth:  3\n",
      "best_min_samle_leaf 1\n"
     ]
    }
   ],
   "source": [
    "# DecisionTreeClassifier best\n",
    "from sklearn.model_selection import train_test_split\n",
    "import mglearn\n",
    "from sklearn.tree import DecisionTreeClassifier\n",
    "import numpy as np\n",
    "import matplotlib.pyplot as plt\n",
    "\n",
    "data = np.loadtxt('ionosphere.csv', delimiter=';', unpack=False)\n",
    "X = data[:, :34]\n",
    "y = data[:, 34:35]\n",
    "y = y.reshape(351)\n",
    "X_train, X_test, y_train, y_test = train_test_split(X, y, stratify = y, random_state = 1)\n",
    "\n",
    "# деревья решений\n",
    "max_score_test = 0\n",
    "#training_accuracy = []\n",
    "#test_accuracy = []\n",
    "for max_features in range(1, 5, 1):\n",
    "    for max_depth in range(1, 5, 1):\n",
    "        for min_samples_leaf in range(1, 5, 1):\n",
    "            #print(\"max_features: \", max_features)\n",
    "            #print(\"max_depth: \", max_depth)\n",
    "            #print(\"min_samles_leaf\", min_samples_leaf)\n",
    "            Tree = DecisionTreeClassifier(random_state = 1, max_features=max_features, max_depth=max_depth, min_samples_leaf=min_samples_leaf)\n",
    "            #Tree = DecisionTreeClassifier(random_state = 1, min_samples_leaf=min_samples_leaf)\n",
    "            Tree.fit(X_train, y_train)\n",
    "            train = Tree.score(X_train, y_train)*100\n",
    "            test = Tree.score(X_test, y_test)*100\n",
    "            #training_accuracy.append(train)\n",
    "            #test_accuracy.append(test)\n",
    "            if (max_score_test < Tree.score(X_test, y_test)*100) :\n",
    "                max_score_test = test\n",
    "                score_train = train\n",
    "                best_max_features = max_features\n",
    "                best_max_depth = max_depth\n",
    "                best_min_samples_leaf = min_samples_leaf\n",
    "print(\"score_train: \", score_train)\n",
    "print(\"best_score_test: \", max_score_test)\n",
    "print(\"best_max_features: \", best_max_features)\n",
    "print(\"best_max_depth: \", best_max_depth)\n",
    "print(\"best_min_samle_leaf\", best_min_samples_leaf)\n",
    "\n",
    "#plt.plot(list(range(1, 15)), training_accuracy, label = \"Training\")\n",
    "#plt.plot(list(range(1, 15)), test_accuracy, label = \"Test\")\n",
    "#plt.ylabel(\"Accuracy\")\n",
    "#plt.xlabel(\"max_samples_leaf\")\n",
    "#plt.legend()"
   ]
  },
  {
   "cell_type": "code",
   "execution_count": 106,
   "metadata": {},
   "outputs": [
    {
     "name": "stdout",
     "output_type": "stream",
     "text": [
      "score_train:  99.23954372623575\n",
      "best_score_test:  0\n",
      "best_max_features:  7\n",
      "best_max_depth:  8\n",
      "best_min_samles_leaf 2\n",
      "best_n_estimators 69\n"
     ]
    }
   ],
   "source": [
    "# RandomForestClassifier best\n",
    "from sklearn.model_selection import train_test_split\n",
    "import mglearn\n",
    "from sklearn.ensemble import RandomForestClassifier\n",
    "import numpy as np\n",
    "import matplotlib.pyplot as plt\n",
    "\n",
    "data = np.loadtxt('ionosphere.csv', delimiter=';', unpack=False)\n",
    "X = data[:, :34]\n",
    "y = data[:, 34:35]\n",
    "y = y.reshape(351)\n",
    "X_train, X_test, y_train, y_test = train_test_split(X, y, stratify = y, random_state = 1)\n",
    "\n",
    "# случайный лес\n",
    "max_score_test = 0\n",
    "#training_accuracy = []\n",
    "#test_accuracy = []\n",
    "for n_estimators in range(65, 70, 1):\n",
    "    for max_features in range(7, 10, 1):\n",
    "        for max_depth in range(7, 9, 1):\n",
    "            for min_samples_leaf in range(1, 3, 1):\n",
    "                #print(\"max_features: \", max_features)\n",
    "                #print(\"max_depth: \", max_depth)\n",
    "                #print(\"min_samles_leaf\", min_samples_leaf)\n",
    "                #forest = RandomForestClassifier(min_samples_leaf=min_samples_leaf, random_state=1)\n",
    "                forest = RandomForestClassifier(n_estimators=n_estimators, max_features=max_features, max_depth=max_depth, min_samples_leaf=min_samples_leaf, random_state=1)\n",
    "                forest.fit(X_train, y_train)\n",
    "                train = forest.score(X_train, y_train)*100\n",
    "                test = forest.score(X_test, y_test)*100\n",
    "                #training_accuracy.append(train)\n",
    "                #test_accuracy.append(test)\n",
    "                if (max_score_test < forest.score(X_test, y_test)*100) :\n",
    "                #if (test > 96.59 and flag == False):\n",
    "                    max_score_test = test\n",
    "                    score_train = train\n",
    "                    best_max_features = max_features\n",
    "                    best_max_depth = max_depth\n",
    "                    best_min_samples_leaf = min_samples_leaf\n",
    "                    best_n_estimators = n_estimators\n",
    "print(\"score_train: \", score_train)\n",
    "print(\"best_score_test: \", max_score_test)\n",
    "print(\"best_max_features: \", best_max_features)\n",
    "print(\"best_max_depth: \", best_max_depth)\n",
    "print(\"best_min_samles_leaf\", best_min_samples_leaf)\n",
    "print(\"best_n_estimators\", n_estimators)\n",
    "\n",
    "#plt.plot(list(range(1, 100)), training_accuracy, label = \"Training\")\n",
    "#plt.plot(list(range(1, 100)), test_accuracy, label = \"Test\")\n",
    "#plt.ylabel(\"Accuracy\")\n",
    "#plt.xlabel(\"num_experiment\")\n",
    "#plt.legend()"
   ]
  },
  {
   "cell_type": "code",
   "execution_count": 38,
   "metadata": {},
   "outputs": [
    {
     "name": "stdout",
     "output_type": "stream",
     "text": [
      "score_train:  97.33840304182509\n",
      "best_score_test:  97.72727272727273\n",
      "best_activation:  relu\n",
      "best_alpha:  0.051\n",
      "best_max_iter 29\n",
      "best_hidden_layer_sizes [5, 5]\n"
     ]
    },
    {
     "data": {
      "text/html": [
       "<div>\n",
       "<style scoped>\n",
       "    .dataframe tbody tr th:only-of-type {\n",
       "        vertical-align: middle;\n",
       "    }\n",
       "\n",
       "    .dataframe tbody tr th {\n",
       "        vertical-align: top;\n",
       "    }\n",
       "\n",
       "    .dataframe thead th {\n",
       "        text-align: right;\n",
       "    }\n",
       "</style>\n",
       "<table border=\"1\" class=\"dataframe\">\n",
       "  <thead>\n",
       "    <tr style=\"text-align: right;\">\n",
       "      <th></th>\n",
       "      <th>g</th>\n",
       "      <th>b</th>\n",
       "    </tr>\n",
       "  </thead>\n",
       "  <tbody>\n",
       "    <tr>\n",
       "      <td>0</td>\n",
       "      <td>1.0</td>\n",
       "      <td>0.0</td>\n",
       "    </tr>\n",
       "    <tr>\n",
       "      <td>1</td>\n",
       "      <td>0.9</td>\n",
       "      <td>0.1</td>\n",
       "    </tr>\n",
       "    <tr>\n",
       "      <td>2</td>\n",
       "      <td>1.0</td>\n",
       "      <td>0.0</td>\n",
       "    </tr>\n",
       "    <tr>\n",
       "      <td>3</td>\n",
       "      <td>0.2</td>\n",
       "      <td>0.8</td>\n",
       "    </tr>\n",
       "    <tr>\n",
       "      <td>4</td>\n",
       "      <td>0.0</td>\n",
       "      <td>1.0</td>\n",
       "    </tr>\n",
       "    <tr>\n",
       "      <td>...</td>\n",
       "      <td>...</td>\n",
       "      <td>...</td>\n",
       "    </tr>\n",
       "    <tr>\n",
       "      <td>83</td>\n",
       "      <td>1.0</td>\n",
       "      <td>0.0</td>\n",
       "    </tr>\n",
       "    <tr>\n",
       "      <td>84</td>\n",
       "      <td>1.0</td>\n",
       "      <td>0.0</td>\n",
       "    </tr>\n",
       "    <tr>\n",
       "      <td>85</td>\n",
       "      <td>0.0</td>\n",
       "      <td>1.0</td>\n",
       "    </tr>\n",
       "    <tr>\n",
       "      <td>86</td>\n",
       "      <td>0.3</td>\n",
       "      <td>0.7</td>\n",
       "    </tr>\n",
       "    <tr>\n",
       "      <td>87</td>\n",
       "      <td>1.0</td>\n",
       "      <td>0.0</td>\n",
       "    </tr>\n",
       "  </tbody>\n",
       "</table>\n",
       "<p>88 rows × 2 columns</p>\n",
       "</div>"
      ],
      "text/plain": [
       "      g    b\n",
       "0   1.0  0.0\n",
       "1   0.9  0.1\n",
       "2   1.0  0.0\n",
       "3   0.2  0.8\n",
       "4   0.0  1.0\n",
       "..  ...  ...\n",
       "83  1.0  0.0\n",
       "84  1.0  0.0\n",
       "85  0.0  1.0\n",
       "86  0.3  0.7\n",
       "87  1.0  0.0\n",
       "\n",
       "[88 rows x 2 columns]"
      ]
     },
     "metadata": {},
     "output_type": "display_data"
    },
    {
     "data": {
      "image/png": "[encoded data removed]",
      "text/plain": [
       "<Figure size 432x288 with 1 Axes>"
      ]
     },
     "metadata": {
      "needs_background": "light"
     },
     "output_type": "display_data"
    }
   ],
   "source": [
    "# MLP best\n",
    "from sklearn.model_selection import train_test_split\n",
    "import mglearn\n",
    "from sklearn.neural_network import MLPClassifier\n",
    "import numpy as np\n",
    "import matplotlib.pyplot as plt\n",
    "\n",
    "data = np.loadtxt('ionosphere.csv', delimiter=';', unpack=False)\n",
    "X = data[:, :34]\n",
    "y = data[:, 34:35]\n",
    "y = y.reshape(351)\n",
    "X_train, X_test, y_train, y_test = train_test_split(X, y, stratify = y, random_state = 1)\n",
    "\n",
    "max_score_test = 0\n",
    "training_accuracy = []\n",
    "test_accuracy = []\n",
    "alpha2 = []\n",
    "for activation in ['relu', 'identity', 'logistic','tanh']:\n",
    "    for alpha_100 in range(1, 1000, 50):\n",
    "        for max_iter in range(15, 30, 1):\n",
    "            for hidden_layer_sizes in [[2,2],[2,3],[2,4],[2,5],[3,2],[3,3],[3,4],[3,5],[4,2],[4,3],[4,4],[4,5],[5,2],[5,3],[5,4],[5,5]]:\n",
    "                #print(\"max_features: \", max_features)\n",
    "                #print(\"max_depth: \", max_depth)\n",
    "                #print(\"min_samles_leaf\", min_samples_leaf)\n",
    "                mlp = MLPClassifier(solver=\"lbfgs\", random_state = 1, activation=activation, alpha=alpha_100/1000, max_iter=max_iter, hidden_layer_sizes=hidden_layer_sizes)\n",
    "                #mlp = MLPClassifier(solver=\"lbfgs\", random_state = 1, hidden_layer_sizes=hidden_layer_sizes)\n",
    "                mlp.fit(X_train, y_train)\n",
    "                train = mlp.score(X_train, y_train)*100\n",
    "                test = mlp.score(X_test, y_test)*100\n",
    "                training_accuracy.append(train)\n",
    "                test_accuracy.append(test)\n",
    "                alpha2.append(hidden_layer_sizes)\n",
    "                if (max_score_test < mlp.score(X_test, y_test)*100) :\n",
    "                #if (test > 96.59 and flag == False):\n",
    "                    max_score_test = test\n",
    "                    score_train = train\n",
    "                    best_activation = activation\n",
    "                    best_alpha = alpha_100/1000\n",
    "                    best_max_iter = max_iter\n",
    "                    best_hidden_layer_sizes = hidden_layer_sizes\n",
    "print(\"score_train: \", score_train)\n",
    "print(\"best_score_test: \", max_score_test)\n",
    "print(\"best_activation: \", best_activation)\n",
    "print(\"best_alpha: \", best_alpha)\n",
    "print(\"best_max_iter\", max_iter)\n",
    "print(\"best_hidden_layer_sizes\", hidden_layer_sizes)\n",
    "\n",
    "plt.plot(alpha2, training_accuracy, label = \"Training\")\n",
    "plt.plot(alpha2, test_accuracy, label = \"Test\")\n",
    "plt.ylabel(\"Accuracy\")\n",
    "plt.xlabel(\"hidden_layer_sizes\")\n",
    "plt.legend()\n",
    "\n",
    "np_resuts = np.array(np.around(mlp.predict_proba(X_test), decimals=1))\n",
    "data_pd = pd.DataFrame(np_resuts)\n",
    "data_pd.columns = ['g','b']\n",
    "display(data_pd)"
   ]
  },
  {
   "cell_type": "code",
   "execution_count": 91,
   "metadata": {},
   "outputs": [
    {
     "data": {
      "text/plain": [
       "Text(0, 0.5, 'relu(x), tanh(x)')"
      ]
     },
     "execution_count": 91,
     "metadata": {},
     "output_type": "execute_result"
    },
    {
     "data": {
      "image/png": "[encoded data removed]",
      "text/plain": [
       "<Figure size 432x288 with 1 Axes>"
      ]
     },
     "metadata": {
      "needs_background": "light"
     },
     "output_type": "display_data"
    }
   ],
   "source": []
  },
  {
   "cell_type": "code",
   "execution_count": 92,
   "metadata": {},
   "outputs": [
    {
     "data": {
      "image/png": "[encoded data removed]",
      "text/plain": [
       "<Figure size 432x288 with 1 Axes>"
      ]
     },
     "metadata": {
      "needs_background": "light"
     },
     "output_type": "display_data"
    }
   ],
   "source": [
    "# Гистограмма результатов\n",
    "\n",
    "import matplotlib\n",
    "import matplotlib.pyplot as plt\n",
    "import numpy as np\n",
    "\n",
    "labels = ['DecisionTree', 'RandomForest', 'MLP']\n",
    "s1 = [95.45, 96.59, 97.73]\n",
    "s2 = [93.92, 97.72, 96.96]\n",
    "\n",
    "x = np.arange(len(labels))  # the label locations\n",
    "width = 0.35  # the width of the bars\n",
    "\n",
    "fig, ax = plt.subplots()\n",
    "r1 = ax.bar(x - width/2, s2, width, label='train')\n",
    "r2 = ax.bar(x + width/2, s1, width, label='test')\n",
    "\n",
    "ax.set_ylabel('Accuracy')\n",
    "ax.set_title('Results')\n",
    "ax.set_ylim(85,100)\n",
    "ax.set_xticks(x)\n",
    "ax.set_xticklabels(labels)\n",
    "ax.legend()\n",
    "\n",
    "\n",
    "def autolabel(rects):\n",
    "    for rect in rects:\n",
    "        height = rect.get_height()\n",
    "        ax.annotate('{}'.format(height),\n",
    "                    xy=(rect.get_x() + rect.get_width() / 2, height),\n",
    "                    xytext=(0, 3),  # 3 points vertical offset\n",
    "                    textcoords=\"offset points\",\n",
    "                    ha='center', va='bottom')\n",
    "autolabel(r1)\n",
    "autolabel(r2)\n",
    "\n",
    "fig.tight_layout()\n",
    "\n",
    "plt.show()"
   ]
  },
  {
   "cell_type": "code",
   "execution_count": 37,
   "metadata": {},
   "outputs": [
    {
     "name": "stdout",
     "output_type": "stream",
     "text": [
      "Tree.score train: 93.92%\n",
      "Tree.score test: 95.45%\n",
      "\n",
      "forest.score train: 97.72%\n",
      "forest.score test: 96.59%\n",
      "\n"
     ]
    }
   ],
   "source": [
    "from sklearn.model_selection import train_test_split\n",
    "import mglearn\n",
    "from sklearn.tree import DecisionTreeClassifier\n",
    "from sklearn.ensemble import RandomForestClassifier\n",
    "from sklearn.neural_network import MLPClassifier\n",
    "import numpy as np\n",
    "import pandas as pd\n",
    "import matplotlib.pyplot as plt\n",
    "\n",
    "data = np.loadtxt('ionosphere.csv', delimiter=';', unpack=False)\n",
    "X = data[:, :34]\n",
    "y = data[:, 34:35]\n",
    "y = y.reshape(351)\n",
    "X_train, X_test, y_train, y_test = train_test_split(X, y, stratify = y, random_state = 1)\n",
    "\n",
    "Tree = DecisionTreeClassifier(random_state = 1, max_features=16, max_depth=7, min_samples_leaf=7)\n",
    "Tree.fit(X_train, y_train)\n",
    "print(\"Tree.score train: {:.2f}%\".format(Tree.score(X_train, y_train)*100))\n",
    "print(\"Tree.score test: {:.2f}%\\n\".format(Tree.score(X_test, y_test)*100))\n",
    "\n",
    "forest = RandomForestClassifier(n_estimators=21, max_features=9, max_depth=8, min_samples_leaf=2, random_state=1)\n",
    "forest.fit(X_train, y_train)\n",
    "print(\"forest.score train: {:.2f}%\".format(forest.score(X_train, y_train)*100))\n",
    "print(\"forest.score test: {:.2f}%\\n\".format(forest.score(X_test, y_test)*100))"
   ]
  },
  {
   "cell_type": "code",
   "execution_count": null,
   "metadata": {},
   "outputs": [],
   "source": []
  }
 ],
 "metadata": {
  "kernelspec": {
   "display_name": "Python 3",
   "language": "python",
   "name": "python3"
  },
  "language_info": {
   "codemirror_mode": {
    "name": "ipython",
    "version": 3
   },
   "file_extension": ".py",
   "mimetype": "text/x-python",
   "name": "python",
   "nbconvert_exporter": "python",
   "pygments_lexer": "ipython3",
   "version": "3.7.1"
  }
 },
 "nbformat": 4,
 "nbformat_minor": 4
}
