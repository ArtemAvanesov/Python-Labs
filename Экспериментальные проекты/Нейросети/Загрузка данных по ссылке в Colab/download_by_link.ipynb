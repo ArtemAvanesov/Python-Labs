{
  "nbformat": 4,
  "nbformat_minor": 0,
  "metadata": {
    "colab": {
      "name": "download_by_link.ipynb",
      "provenance": [],
      "collapsed_sections": []
    },
    "kernelspec": {
      "name": "python3",
      "display_name": "Python 3"
    }
  },
  "cells": [
    {
      "cell_type": "markdown",
      "metadata": {
        "id": "MfU_zduLpj6k",
        "colab_type": "text"
      },
      "source": [
        "# Download"
      ]
    },
    {
      "cell_type": "code",
      "metadata": {
        "id": "537lVMX8mw08",
        "colab_type": "code",
        "colab": {}
      },
      "source": [
        "import urllib.request, urllib.parse, urllib.error\n",
        "\n",
        "urllib.request.urlretrieve(\"https://github.com/Yorko/mlcourse.ai/archive/master.zip\", \"/content/drive/My Drive/Colab/LinaTech/1_PRACTICE_time_series/leasons.zip\")"
      ],
      "execution_count": null,
      "outputs": []
    },
    {
      "cell_type": "markdown",
      "metadata": {
        "id": "Zcn3F6QcpnoU",
        "colab_type": "text"
      },
      "source": [
        "# Unzip"
      ]
    },
    {
      "cell_type": "code",
      "metadata": {
        "id": "F8ZL8S0-owxu",
        "colab_type": "code",
        "colab": {}
      },
      "source": [
        "!cp \"/content/drive/My Drive/Colab/LinaTech/1_PRACTICE_time_series/leasons.zip\" \"/content/leasons.zip\"\n",
        "!mkdir \"/content/leasons\"\n",
        "!unzip -d \"/content/leasons\" \"/content/leasons.zip\""
      ],
      "execution_count": null,
      "outputs": []
    }
  ]
}