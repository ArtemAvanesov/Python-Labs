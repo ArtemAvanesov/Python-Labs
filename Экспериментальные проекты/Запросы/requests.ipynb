{
 "cells": [
  {
   "cell_type": "code",
   "execution_count": 1,
   "metadata": {},
   "outputs": [
    {
     "name": "stdout",
     "output_type": "stream",
     "text": [
      "ПРОВЕРКА ВАЛИДНОСТИ ЗАПРОСА\n",
      "Запрос успешен! (через status_code)\n",
      "Запрос успешен! (через ok)\n",
      "<bound method Response.raise_for_status of <Response [200]>> (через raise_for_status)\n",
      "\n",
      "ЗАГОЛОВКИ\n",
      "Дата: Fri, 24 Apr 2020 16:54:01 GMT\n",
      "Тип контента: application/json\n",
      "Длина контента: 307\n",
      "Сервер: gunicorn/19.9.0\n",
      "Разрешенные домены: *\n",
      "Куки: true\n",
      "\n",
      "ПРЕОБРАЗОВАНИЕ ОТВЕТА В JSON\n",
      "Host: httpbin.org\n",
      "\n",
      "ПЕРЕДАЧА ПАРАМЕТРОВ В GET\n",
      "Аргументы: {'a': '2', 'text': 'hello'}\n",
      "\n",
      "ПЕРЕДАЧА ПАРАМЕТРОВ В POST\n",
      "Аргументы: {'a': '2', 'text': 'hello'}\n",
      "Данные: {\"user\": \"Artem\"}\n",
      "json: {'user': 'Artem'}\n"
     ]
    }
   ],
   "source": [
    "import requests # Поддерживаемые запросы: get, post, options, head, put, patch, delete\n",
    "\n",
    "response = requests.get(\"https://httpbin.org/get\")\n",
    "\n",
    "print(\"ПРОВЕРКА ВАЛИДНОСТИ ЗАПРОСА\") # группа кодов 400 - ошибки на стороне клиента, 500 - на стороне сервера\n",
    "if (response.status_code == 200):   \n",
    "    print(\"Запрос успешен! (через status_code)\") # Способ первый - проверяет на наличие кода 200\n",
    "if (response.ok == True):   \n",
    "    print(\"Запрос успешен! (через ok)\") # Способ второй - проверяет на отсутствие ошибок в диапазоне 400-600\n",
    "print(\"{} (через raise_for_status)\".format(response.raise_for_status)) # Способ третий - в случае ошибки выбросит исключение\n",
    "\n",
    "print(\"\\nЗАГОЛОВКИ\")\n",
    "print(\"Дата: {}\".format(response.headers[\"Date\"]))\n",
    "print(\"Тип контента: {}\".format(response.headers[\"Content-Type\"]))\n",
    "print(\"Длина контента: {}\".format(response.headers[\"Content-Length\"]))\n",
    "print(\"Сервер: {}\".format(response.headers[\"Server\"]))\n",
    "print(\"Разрешенные домены: {}\".format(response.headers[\"Access-Control-Allow-Origin\"]))\n",
    "print(\"Куки: {}\".format(response.headers[\"Access-Control-Allow-Credentials\"]))\n",
    "\n",
    "print(\"\\nПРЕОБРАЗОВАНИЕ ОТВЕТА В JSON\")\n",
    "print(\"Host: {}\".format(response.json()[\"headers\"][\"Host\"]))\n",
    "\n",
    "print(\"\\nПЕРЕДАЧА ПАРАМЕТРОВ В GET\")\n",
    "response = requests.get(\"https://httpbin.org/get\", params = {'a':2, 'text':'hello'})\n",
    "print(\"Аргументы: {}\".format(response.json()['args']))\n",
    "\n",
    "print(\"\\nПЕРЕДАЧА ПАРАМЕТРОВ В POST\")\n",
    "response = requests.post(\"https://httpbin.org/post\", params = {'a':2, 'text':'hello'}, json = {'user':'Artem'})\n",
    "print(\"Аргументы: {}\".format(response.json()['args']))\n",
    "print(\"Данные: {}\".format(response.json()['data']))\n",
    "print(\"json: {}\".format(response.json()['json']))\n",
    "\n",
    "# https://www.youtube.com/watch?v=3Tm34b7p_cM\n",
    "# https://www.youtube.com/watch?v=IK448-nC8yU"
   ]
  },
  {
   "cell_type": "code",
   "execution_count": null,
   "metadata": {},
   "outputs": [],
   "source": []
  }
 ],
 "metadata": {
  "kernelspec": {
   "display_name": "Python 3",
   "language": "python",
   "name": "python3"
  },
  "language_info": {
   "codemirror_mode": {
    "name": "ipython",
    "version": 3
   },
   "file_extension": ".py",
   "mimetype": "text/x-python",
   "name": "python",
   "nbconvert_exporter": "python",
   "pygments_lexer": "ipython3",
   "version": "3.7.6"
  }
 },
 "nbformat": 4,
 "nbformat_minor": 4
}
