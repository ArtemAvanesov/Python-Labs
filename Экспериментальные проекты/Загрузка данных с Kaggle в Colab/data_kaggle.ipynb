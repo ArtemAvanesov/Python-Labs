{
  "nbformat": 4,
  "nbformat_minor": 0,
  "metadata": {
    "colab": {
      "name": "data_kaggle.ipynb",
      "provenance": [],
      "collapsed_sections": [],
      "toc_visible": true,
      "mount_file_id": "1EMYf7PYhAAkluGTA27Xt104cj2l_wOqA",
      "authorship_tag": "ABX9TyPDL2Apn/bJSSoWlDxDoane",
      "include_colab_link": true
    },
    "kernelspec": {
      "name": "python3",
      "display_name": "Python 3"
    }
  },
  "cells": [
    {
      "cell_type": "markdown",
      "metadata": {
        "id": "view-in-github",
        "colab_type": "text"
      },
      "source": [
        "<a href=\"https://colab.research.google.com/github/ArtemAvanesov/Python-Labs/blob/master/Python-Labs/%D0%AD%D0%BA%D1%81%D0%BF%D0%B5%D1%80%D0%B8%D0%BC%D0%B5%D0%BD%D1%82%D0%B0%D0%BB%D1%8C%D0%BD%D1%8B%D0%B5%20%D0%BF%D1%80%D0%BE%D0%B5%D0%BA%D1%82%D1%8B/%D0%97%D0%B0%D0%B3%D1%80%D1%83%D0%B7%D0%BA%D0%B0%20%D0%B4%D0%B0%D0%BD%D0%BD%D1%8B%D1%85%20%D1%81%20Kaggle%20%D0%B2%20Colab/data_kaggle.ipynb\" target=\"_parent\"><img src=\"https://colab.research.google.com/assets/colab-badge.svg\" alt=\"Open In Colab\"/></a>"
      ]
    },
    {
      "cell_type": "markdown",
      "metadata": {
        "id": "biz5n0skkPiI",
        "colab_type": "text"
      },
      "source": [
        "# Install kaggle API and make a directory"
      ]
    },
    {
      "cell_type": "code",
      "metadata": {
        "id": "o56604v6cBVA",
        "colab_type": "code",
        "colab": {}
      },
      "source": [
        "!pip install -U -q kaggle\n",
        "!mkdir -p ~/.kaggle"
      ],
      "execution_count": 0,
      "outputs": []
    },
    {
      "cell_type": "markdown",
      "metadata": {
        "id": "YGzOrs6okkS9",
        "colab_type": "text"
      },
      "source": [
        "# import the API key"
      ]
    },
    {
      "cell_type": "code",
      "metadata": {
        "id": "bfBA06K3fngd",
        "colab_type": "code",
        "colab": {}
      },
      "source": [
        "!cp \"/content/drive/My Drive/Colab/Download from Kaggle/kaggle/kaggle.json\" ~/.kaggle/kaggle.json"
      ],
      "execution_count": 0,
      "outputs": []
    },
    {
      "cell_type": "markdown",
      "metadata": {
        "id": "ZH2kb-NakKsS",
        "colab_type": "text"
      },
      "source": [
        "# List of datasets"
      ]
    },
    {
      "cell_type": "code",
      "metadata": {
        "id": "LFdaj_amgfET",
        "colab_type": "code",
        "outputId": "399498f6-351f-44d9-c5ae-9964d384bada",
        "colab": {
          "base_uri": "https://localhost:8080/",
          "height": 425
        }
      },
      "source": [
        "!kaggle datasets list"
      ],
      "execution_count": 3,
      "outputs": [
        {
          "output_type": "stream",
          "text": [
            "Warning: Your Kaggle API key is readable by other users on this system! To fix this, you can run 'chmod 600 /root/.kaggle/kaggle.json'\n",
            "Warning: Looks like you're using an outdated API Version, please consider updating (server 1.5.6 / client 1.5.4)\n",
            "ref                                                         title                                                size  lastUpdated          downloadCount  \n",
            "----------------------------------------------------------  --------------------------------------------------  -----  -------------------  -------------  \n",
            "allen-institute-for-ai/CORD-19-research-challenge           COVID-19 Open Research Dataset Challenge (CORD-19)    3GB  2020-05-20 17:23:43          71388  \n",
            "roche-data-science-coalition/uncover                        UNCOVER COVID-19 Challenge                          179MB  2020-05-21 18:57:53          10355  \n",
            "susuwatari/epa-vehicle-dataset-19802021                     EPA Vehicle Dataset (~1980-2021)                      2MB  2020-05-10 18:20:19            455  \n",
            "idoyo92/epl-stats-20192020                                  English Premier League stats 2019-2020              580KB  2020-05-15 14:11:44           1357  \n",
            "mrmorj/political-advertisements-from-facebook               Political Advertisements from Facebook              237MB  2020-05-05 18:53:51            461  \n",
            "sudalairajkumar/nifty-indices-dataset                       Nifty Indices Dataset                                 1MB  2020-05-09 17:22:01            561  \n",
            "amanarora/obesity-among-adults-by-country-19752016          Obesity among adults by country, 1975-2016          362KB  2020-05-08 07:40:50           2179  \n",
            "mrisdal/married-at-first-sight                              Married at First Sight                                2KB  2020-05-09 07:25:16           1402  \n",
            "mrmorj/hospital-bed-capacity-and-covid19                    Hospital Bed Capacity and COVID-19                   86KB  2020-05-10 09:22:49           1199  \n",
            "andrewmvd/udemy-courses                                     Udemy Courses                                       200KB  2020-05-17 00:01:42           1855  \n",
            "timxia/enriched-global-mobility-data-apple-google           Enriched Global Mobility Data (Apple + Google)        4MB  2020-05-22 01:00:09            548  \n",
            "jessemostipak/animal-crossing                               Animal Crossing Reviews                             754KB  2020-05-04 15:30:32           1005  \n",
            "gyejr95/tft-match-data                                      TFT(League Of Legends) - High Elo Ranked Games       23MB  2020-05-24 09:06:54            505  \n",
            "phiitm/covid19-research-preprint-data                       COVID-19 Research Preprint Data                       3MB  2020-05-25 19:47:44            340  \n",
            "benroshan/factors-affecting-campus-placement                Campus Recruitment                                    5KB  2020-04-11 11:09:02           5375  \n",
            "bobbyscience/league-of-legends-diamond-ranked-games-10-min  League of Legends Diamond Ranked Games (10 min)     539KB  2020-04-13 13:53:02           2487  \n",
            "fireballbyedimyrnmom/us-counties-covid-19-dataset           US counties COVID 19 dataset                          2MB  2020-05-25 12:42:04           7188  \n",
            "divyansh22/flight-delay-prediction                          January Flight Delay Prediction                      23MB  2020-04-14 13:15:41           1813  \n",
            "clmentbisaillon/fake-and-real-news-dataset                  Fake and real news dataset                           41MB  2020-03-26 18:51:15           4887  \n",
            "ikiulian/global-hospital-beds-capacity-for-covid19          Global Hospital Beds Capacity (for covid-19)        284KB  2020-04-26 09:39:35           2084  \n"
          ],
          "name": "stdout"
        }
      ]
    },
    {
      "cell_type": "markdown",
      "metadata": {
        "id": "vtsQaQBvkERe",
        "colab_type": "text"
      },
      "source": [
        "# Download dataset"
      ]
    },
    {
      "cell_type": "code",
      "metadata": {
        "id": "d50OlKGZhn3F",
        "colab_type": "code",
        "outputId": "95d0d268-e79e-4bca-d89e-65fe7e842cc8",
        "colab": {
          "base_uri": "https://localhost:8080/",
          "height": 102
        }
      },
      "source": [
        "!kaggle datasets download -d andrewmvd/road-sign-detection\n",
        "!ls"
      ],
      "execution_count": 4,
      "outputs": [
        {
          "output_type": "stream",
          "text": [
            "Warning: Your Kaggle API key is readable by other users on this system! To fix this, you can run 'chmod 600 /root/.kaggle/kaggle.json'\n",
            "Downloading road-sign-detection.zip to /content\n",
            " 93% 203M/218M [00:01<00:00, 157MB/s]\n",
            "100% 218M/218M [00:01<00:00, 161MB/s]\n",
            "drive  road-sign-detection.zip\tsample_data\n"
          ],
          "name": "stdout"
        }
      ]
    },
    {
      "cell_type": "markdown",
      "metadata": {
        "id": "ImlLnXhveR9r",
        "colab_type": "text"
      },
      "source": [
        "# Replace to drive"
      ]
    },
    {
      "cell_type": "code",
      "metadata": {
        "id": "LeuvKiPjd1ZB",
        "colab_type": "code",
        "colab": {}
      },
      "source": [
        "!mv 'road-sign-detection.zip' '/content/drive/My Drive/Colab/Download from Kaggle/kaggle/road-sign-detection.zip'"
      ],
      "execution_count": 0,
      "outputs": []
    }
  ]
}