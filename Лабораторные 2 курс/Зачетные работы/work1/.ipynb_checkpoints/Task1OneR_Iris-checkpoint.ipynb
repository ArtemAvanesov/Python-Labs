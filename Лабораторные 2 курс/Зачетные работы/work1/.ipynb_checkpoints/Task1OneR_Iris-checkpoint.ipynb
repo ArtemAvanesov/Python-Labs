{
 "cells": [
  {
   "cell_type": "code",
   "execution_count": 6,
   "metadata": {},
   "outputs": [
    {
     "name": "stdout",
     "output_type": "stream",
     "text": [
      "There are (112,) training samples\n",
      "There are (38,) testing samples\n",
      "The best model is based on variable 2 and has error 37.00\n",
      "{'variable': 2, 'predictor': {0: 0, 1: 2}}\n"
     ]
    }
   ],
   "source": [
    "# OneR Algorithm\n",
    "# For each predictor,\n",
    "#      For each value of that predictor, make a rule as follows;\n",
    "#            Count how often each value of target (class) appears\n",
    "#            Find the most frequent class\n",
    "#            Make the rule assign that class to this value of the predictor\n",
    "#      Calculate the total error of the rules of each predictor\n",
    "# Choose the predictor with the smallest total error.\n",
    "\n",
    "import numpy as np\n",
    "from sklearn.datasets import load_iris\n",
    "from sklearn.model_selection import train_test_split\n",
    "\n",
    "#Загрузка данных об ирисах\n",
    "dataset = load_iris()\n",
    "#Массив с примерами по 4 признака\n",
    "X = dataset.data\n",
    "#Массив с классами\n",
    "y = dataset.target\n",
    "#Количество примеров - 150, признаков - 4\n",
    "n_samples, n_features = X.shape\n",
    "#Математическое ожидаине для каждого из признаков\n",
    "attribute_means = X.mean(axis=0) #axis=0 - считать по столбцам, axis=1 - считать по строкам\n",
    "#проверка что количесвто признаков соответствует заданному\n",
    "assert attribute_means.shape == (n_features,)\n",
    "#переход от continious features к categorical features. Т.е. преобразование признаков с помощью пооговой функции\n",
    "#в качестве порога - матожидание\n",
    "#т.е. бинаризация признаков\n",
    "X_d = np.array(X >= attribute_means, dtype='int')\n",
    "random_state = 14  # так, чтобы получить одинак. рез-ты\n",
    "#разделение на тестовую и обучающие выборки\n",
    "X_train, X_test, y_train, y_test = train_test_split(X_d, y, random_state=random_state)\n",
    "print(\"There are {} training samples\".format(y_train.shape))\n",
    "print(\"There are {} testing samples\".format(y_test.shape))\n",
    "\n",
    "from collections import defaultdict\n",
    "from operator import itemgetter\n",
    "\n",
    "def train(X, y_true, feature):\n",
    "    # Check that variable is a valid number - проверка валидный ли номер признака\n",
    "    n_samples, n_features = X.shape\n",
    "    assert 0 <= feature < n_features\n",
    "    # Get all of the unique values that this variable has - получение всех уникальных знаачений для признака \n",
    "    # после бинаризации значение 1 и 0\n",
    "    values = set(X[:,feature])\n",
    "    # Stores the predictors array that is returned\n",
    "    predictors = dict()\n",
    "    errors = []\n",
    "    #для каждого из значений признака вычисляется:\n",
    "    #most_frequent_class  класс, который чаще встречается при данном значении признака\n",
    "    #error - ошибка при подоюном правиле\n",
    "    for current_value in values:\n",
    "        most_frequent_class, error = train_feature_value(X, y_true, feature, current_value)\n",
    "        predictors[current_value] = most_frequent_class\n",
    "        errors.append(error)\n",
    "    # Compute the total error of using this feature to classify on\n",
    "    total_error = sum(errors)\n",
    "    return predictors, total_error\n",
    "\n",
    "# Compute what our predictors say each sample is based on its value\n",
    "#y_predicted = np.array([predictors[sample[feature]] for sample in X])\n",
    "    \n",
    "\n",
    "def train_feature_value(X, y_true, feature, value):\n",
    "    # Create a simple dictionary to count how frequency they give certain predictions\n",
    "    class_counts = defaultdict(int)\n",
    "    # Iterate through each sample and count the frequency of each class/value pair\n",
    "    # для каждого значения признака считаются появляющиеся классы\n",
    "    for sample, y in zip(X, y_true):\n",
    "        if sample[feature] == value:\n",
    "            class_counts[y] += 1       \n",
    "    # Now get the best one by sorting (highest first) and choosing the first item\n",
    "    # выбор наиболее частовстречающегося класса - считаем, что данное значение данного признака \n",
    "    # соотеветствует этому классу\n",
    "    sorted_class_counts = sorted(class_counts.items(), key=itemgetter(1), reverse=True)\n",
    "    most_frequent_class = sorted_class_counts[0][0]\n",
    "    # The error is the number of samples that do not classify as the most frequent class\n",
    "    # *and* have the feature value.\n",
    "    n_samples = X.shape[1] #выгляди как ненужная строка\n",
    "    # ошибка - количесвто примеров, где класс другой\n",
    "    error = sum([class_count for class_value, class_count in class_counts.items()\n",
    "                 if class_value != most_frequent_class])\n",
    "    return most_frequent_class, error\n",
    "\n",
    "# Compute all of the predictors\n",
    "# вычислили правило и ошибку для каждого признака\n",
    "all_predictors = {variable: train(X_train, y_train, variable) for variable in range(X_train.shape[1])}\n",
    "errors = {variable: error for variable, (mapping, error) in all_predictors.items()}\n",
    "# Now choose the best and save that as \"model\"\n",
    "# Sort by error\n",
    "# выбрали наилучшее по минимальной ошибке\n",
    "best_variable, best_error = sorted(errors.items(), key=itemgetter(1))[0]\n",
    "print(\"The best model is based on variable {0} and has error {1:.2f}\".format(best_variable, best_error))\n",
    "\n",
    "# Choose the bset model\n",
    "model = {'variable': best_variable,\n",
    "         'predictor': all_predictors[best_variable][0]}\n",
    "print(model)"
   ]
  },
  {
   "cell_type": "code",
   "execution_count": 7,
   "metadata": {},
   "outputs": [
    {
     "name": "stdout",
     "output_type": "stream",
     "text": [
      "[0 0 0 2 2 2 0 2 0 2 2 0 2 2 0 2 0 2 2 2 0 0 0 2 0 2 0 2 2 0 0 0 2 0 2 0 2\n",
      " 2]\n"
     ]
    }
   ],
   "source": [
    "#функция для получения предсказаний по выбранной модели\n",
    "def predict(X_test, model):\n",
    "    variable = model['variable']\n",
    "    predictor = model['predictor']\n",
    "    y_predicted = np.array([predictor[int(sample[variable])] for sample in X_test])\n",
    "    return y_predicted\n",
    "y_predicted = predict(X_test, model)\n",
    "print(y_predicted)"
   ]
  },
  {
   "cell_type": "code",
   "execution_count": 8,
   "metadata": {},
   "outputs": [
    {
     "name": "stdout",
     "output_type": "stream",
     "text": [
      "The test accuracy is 65.8%\n"
     ]
    }
   ],
   "source": [
    "# Compute the accuracy by taking the mean of the amounts that y_predicted is equal to y_test\n",
    "accuracy = np.mean(y_predicted == y_test) * 100\n",
    "print(\"The test accuracy is {:.1f}%\".format(accuracy))"
   ]
  },
  {
   "cell_type": "code",
   "execution_count": 9,
   "metadata": {},
   "outputs": [
    {
     "name": "stdout",
     "output_type": "stream",
     "text": [
      "              precision    recall  f1-score   support\n",
      "\n",
      "     class 0       0.94      1.00      0.97        17\n",
      "     class 1       0.00      0.00      0.00        13\n",
      "     class 2       0.40      1.00      0.57         8\n",
      "\n",
      "    accuracy                           0.66        38\n",
      "   macro avg       0.45      0.67      0.51        38\n",
      "weighted avg       0.51      0.66      0.55        38\n",
      "\n"
     ]
    },
    {
     "name": "stderr",
     "output_type": "stream",
     "text": [
      "c:\\users\\orus-kade\\appdata\\local\\programs\\python\\python37-32\\lib\\site-packages\\sklearn\\metrics\\classification.py:1437: UndefinedMetricWarning: Precision and F-score are ill-defined and being set to 0.0 in labels with no predicted samples.\n",
      "  'precision', 'predicted', average, warn_for)\n"
     ]
    }
   ],
   "source": [
    "from sklearn.metrics import classification_report\n",
    "print(classification_report(y_test, y_predicted))\n",
    "# для каждого из классов 0, 1, 2 - (для 1 - нули, потому что по получекнному классификатору\n",
    "# это класс не получается в результате, потому же и выскакиевает предупреждение)\n",
    "# True Positives (TP) True Negatives (TN) False Positives (FP) False Negatives (FN) \n",
    "# precision - отношение правильно положительно предсказанных ко всем правильно предсказанным (TP/TP+FP)\n",
    "# recall  - отношение правильно положительно предсказанным ко всем, кто фактически должен быть положительным (TP/TP+FN)\n",
    "# F1 score - F1 Score is the weighted average of Precision and Recall ( 2*(Recall * Precision) / (Recall + Precision))\n",
    "# macro avg - среднее арефметическое хар-к (пример по precision ((0.94 + 0.00 + 0.40)/3)\n",
    "# weighted avg - среднее арефметическое хар-к с учетем веса для каждоко класса (т.е для 0 - 17/38)"
   ]
  },
  {
   "cell_type": "code",
   "execution_count": 13,
   "metadata": {},
   "outputs": [
    {
     "data": {
      "text/plain": [
       "0.5047368421052632"
      ]
     },
     "execution_count": 13,
     "metadata": {},
     "output_type": "execute_result"
    }
   ],
   "source": []
  },
  {
   "cell_type": "code",
   "execution_count": null,
   "metadata": {},
   "outputs": [],
   "source": []
  },
  {
   "cell_type": "code",
   "execution_count": null,
   "metadata": {},
   "outputs": [],
   "source": []
  }
 ],
 "metadata": {
  "kernelspec": {
   "display_name": "Python 3",
   "language": "python",
   "name": "python3"
  },
  "language_info": {
   "codemirror_mode": {
    "name": "ipython",
    "version": 3
   },
   "file_extension": ".py",
   "mimetype": "text/x-python",
   "name": "python",
   "nbconvert_exporter": "python",
   "pygments_lexer": "ipython3",
   "version": "3.7.0"
  }
 },
 "nbformat": 4,
 "nbformat_minor": 4
}
