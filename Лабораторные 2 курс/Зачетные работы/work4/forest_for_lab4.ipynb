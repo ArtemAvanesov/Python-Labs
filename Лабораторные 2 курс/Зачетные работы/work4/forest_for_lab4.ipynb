{
 "cells": [
  {
   "cell_type": "code",
   "execution_count": 5,
   "metadata": {},
   "outputs": [
    {
     "data": {
      "text/html": [
       "<div>\n",
       "<style scoped>\n",
       "    .dataframe tbody tr th:only-of-type {\n",
       "        vertical-align: middle;\n",
       "    }\n",
       "\n",
       "    .dataframe tbody tr th {\n",
       "        vertical-align: top;\n",
       "    }\n",
       "\n",
       "    .dataframe thead th {\n",
       "        text-align: right;\n",
       "    }\n",
       "</style>\n",
       "<table border=\"1\" class=\"dataframe\">\n",
       "  <thead>\n",
       "    <tr style=\"text-align: right;\">\n",
       "      <th></th>\n",
       "      <th>train_score</th>\n",
       "      <th>test_score</th>\n",
       "      <th>n_trees</th>\n",
       "      <th>max_depth</th>\n",
       "      <th>max_leaf_nodes</th>\n",
       "      <th>min_samples_leaf</th>\n",
       "    </tr>\n",
       "  </thead>\n",
       "  <tbody>\n",
       "    <tr>\n",
       "      <td>0</td>\n",
       "      <td>91.254753</td>\n",
       "      <td>89.772727</td>\n",
       "      <td>5.0</td>\n",
       "      <td>6.0</td>\n",
       "      <td>10.0</td>\n",
       "      <td>7.0</td>\n",
       "    </tr>\n",
       "  </tbody>\n",
       "</table>\n",
       "</div>"
      ],
      "text/plain": [
       "   train_score  test_score  n_trees  max_depth  max_leaf_nodes  \\\n",
       "0    91.254753   89.772727      5.0        6.0            10.0   \n",
       "\n",
       "   min_samples_leaf  \n",
       "0               7.0  "
      ]
     },
     "metadata": {},
     "output_type": "display_data"
    },
    {
     "data": {
      "text/html": [
       "<div>\n",
       "<style scoped>\n",
       "    .dataframe tbody tr th:only-of-type {\n",
       "        vertical-align: middle;\n",
       "    }\n",
       "\n",
       "    .dataframe tbody tr th {\n",
       "        vertical-align: top;\n",
       "    }\n",
       "\n",
       "    .dataframe thead th {\n",
       "        text-align: right;\n",
       "    }\n",
       "</style>\n",
       "<table border=\"1\" class=\"dataframe\">\n",
       "  <thead>\n",
       "    <tr style=\"text-align: right;\">\n",
       "      <th></th>\n",
       "      <th>g</th>\n",
       "      <th>b</th>\n",
       "    </tr>\n",
       "  </thead>\n",
       "  <tbody>\n",
       "    <tr>\n",
       "      <td>0</td>\n",
       "      <td>0.95</td>\n",
       "      <td>0.05</td>\n",
       "    </tr>\n",
       "    <tr>\n",
       "      <td>1</td>\n",
       "      <td>0.98</td>\n",
       "      <td>0.02</td>\n",
       "    </tr>\n",
       "    <tr>\n",
       "      <td>2</td>\n",
       "      <td>0.95</td>\n",
       "      <td>0.05</td>\n",
       "    </tr>\n",
       "    <tr>\n",
       "      <td>3</td>\n",
       "      <td>0.17</td>\n",
       "      <td>0.83</td>\n",
       "    </tr>\n",
       "    <tr>\n",
       "      <td>4</td>\n",
       "      <td>0.00</td>\n",
       "      <td>1.00</td>\n",
       "    </tr>\n",
       "    <tr>\n",
       "      <td>5</td>\n",
       "      <td>0.99</td>\n",
       "      <td>0.01</td>\n",
       "    </tr>\n",
       "  </tbody>\n",
       "</table>\n",
       "</div>"
      ],
      "text/plain": [
       "      g     b\n",
       "0  0.95  0.05\n",
       "1  0.98  0.02\n",
       "2  0.95  0.05\n",
       "3  0.17  0.83\n",
       "4  0.00  1.00\n",
       "5  0.99  0.01"
      ]
     },
     "metadata": {},
     "output_type": "display_data"
    },
    {
     "data": {
      "text/plain": [
       "Text(0, 0.5, 'Признак 26')"
      ]
     },
     "execution_count": 5,
     "metadata": {},
     "output_type": "execute_result"
    },
    {
     "data": {
      "image/png": "[encoded data removed]",
      "text/plain": [
       "<Figure size 432x288 with 1 Axes>"
      ]
     },
     "metadata": {},
     "output_type": "display_data"
    }
   ],
   "source": [
    "\n",
    "from sklearn.model_selection import train_test_split\n",
    "import mglearn\n",
    "from sklearn.tree import DecisionTreeClassifier\n",
    "from sklearn.ensemble import RandomForestClassifier\n",
    "import matplotlib.pyplot as plt\n",
    "import pandas as pd\n",
    "import numpy as np\n",
    "\n",
    "data = np.loadtxt('work4/ionosphere.csv', delimiter=';', unpack=False)\n",
    "X = data[:, [4,26]]\n",
    "y = data[:, 34:35]\n",
    "y = y.reshape(351)\n",
    "X_train, X_test, y_train, y_test = train_test_split(X, y, stratify = y, random_state = 1)\n",
    "\n",
    "# ансамбль деревьев\n",
    "params = ['train_score', 'test_score', 'n_trees', 'max_depth', 'max_leaf_nodes', 'min_samples_leaf']\n",
    "resuts = []\n",
    "def add_results(forest):\n",
    "    resuts.append([forest.score(X_train, y_train)*100,  \n",
    "                   forest.score(X_test, y_test)*100,\n",
    "                   forest.n_estimators,\n",
    "                   forest.max_depth,\n",
    "                   forest.max_leaf_nodes,\n",
    "                   forest.min_samples_leaf])\n",
    "    \n",
    "def my_forest(n_trees, max_dept, max_leaf_node, min_sample_leaf):\n",
    "    forest = RandomForestClassifier(n_estimators=n_trees, max_depth=max_dept, max_leaf_nodes=max_leaf_node, min_samples_leaf=min_sample_leaf, random_state=1)\n",
    "    forest.fit(X_train, y_train)\n",
    "    add_results(forest)\n",
    "    return forest\n",
    "    \n",
    "forest5 = my_forest(n_trees = 5, max_dept=6, max_leaf_node=10, min_sample_leaf=7)\n",
    "    \n",
    "np_resuts = np.array(resuts)\n",
    "data_pd = pd.DataFrame(np_resuts)\n",
    "data_pd.columns = params\n",
    "display(data_pd)\n",
    "\n",
    "\n",
    "np_resuts = np.array(np.around(forest5.predict_proba(X_test[:6]), decimals=2))\n",
    "data_pd = pd.DataFrame(np_resuts)\n",
    "data_pd.columns = ['g','b']\n",
    "display(data_pd)\n",
    "\n",
    "mglearn.plots.plot_2d_separator(forest5, X_test, fill = True, alpha = 0.3)\n",
    "mglearn.discrete_scatter(X_test[:,0], X_test[:,1], y_test)\n",
    "plt.xlabel(\"Признак 4\")\n",
    "plt.ylabel(\"Признак 26\")\n"
   ]
  }
 ],
 "metadata": {
  "kernelspec": {
   "display_name": "Python 3",
   "language": "python",
   "name": "python3"
  },
  "language_info": {
   "codemirror_mode": {
    "name": "ipython",
    "version": 3
   },
   "file_extension": ".py",
   "mimetype": "text/x-python",
   "name": "python",
   "nbconvert_exporter": "python",
   "pygments_lexer": "ipython3",
   "version": "3.7.1"
  }
 },
 "nbformat": 4,
 "nbformat_minor": 4
}
